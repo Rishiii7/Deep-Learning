{
  "nbformat": 4,
  "nbformat_minor": 0,
  "metadata": {
    "kernelspec": {
      "display_name": "Python 3",
      "name": "python3"
    },
    "language_info": {
      "name": "python"
    },
    "colab": {
      "name": "ndarray.ipynb",
      "provenance": []
    },
    "accelerator": "GPU"
  },
  "cells": [
    {
      "cell_type": "markdown",
      "metadata": {
        "id": "hgqGWaXvhLvn"
      },
      "source": [
        "The following additional libraries are needed to run this\n",
        "notebook. Note that running on Colab is experimental, please report a Github\n",
        "issue if you have any problem."
      ]
    },
    {
      "cell_type": "code",
      "metadata": {
        "colab": {
          "base_uri": "https://localhost:8080/"
        },
        "id": "zq82j-TFhLvo",
        "outputId": "e5ac5259-aa45-4e53-c2f8-f9431b2d857b"
      },
      "source": [
        "!pip install -U mxnet-cu101==1.7.0\n"
      ],
      "execution_count": 2,
      "outputs": [
        {
          "output_type": "stream",
          "name": "stdout",
          "text": [
            "Collecting mxnet-cu101==1.7.0\n",
            "  Downloading mxnet_cu101-1.7.0-py2.py3-none-manylinux2014_x86_64.whl (846.0 MB)\n",
            "\u001b[K     |███████████████████████████████▌| 834.1 MB 1.2 MB/s eta 0:00:10tcmalloc: large alloc 1147494400 bytes == 0x55bc74ec0000 @  0x7f32d3036615 0x55bc3b9c502c 0x55bc3baa517a 0x55bc3b9c7e4d 0x55bc3bab9c0d 0x55bc3ba3c0d8 0x55bc3ba36c35 0x55bc3b9c973a 0x55bc3ba3bf40 0x55bc3ba36c35 0x55bc3b9c973a 0x55bc3ba3893b 0x55bc3babaa56 0x55bc3ba37fb3 0x55bc3babaa56 0x55bc3ba37fb3 0x55bc3babaa56 0x55bc3ba37fb3 0x55bc3b9c9b99 0x55bc3ba0ce79 0x55bc3b9c87b2 0x55bc3ba3be65 0x55bc3ba36c35 0x55bc3b9c973a 0x55bc3ba3893b 0x55bc3ba36c35 0x55bc3b9c973a 0x55bc3ba37b0e 0x55bc3b9c965a 0x55bc3ba37d67 0x55bc3ba36c35\n",
            "\u001b[K     |████████████████████████████████| 846.0 MB 21 kB/s \n",
            "\u001b[?25hRequirement already satisfied: numpy<2.0.0,>1.16.0 in /usr/local/lib/python3.7/dist-packages (from mxnet-cu101==1.7.0) (1.19.5)\n",
            "Requirement already satisfied: requests<3,>=2.20.0 in /usr/local/lib/python3.7/dist-packages (from mxnet-cu101==1.7.0) (2.23.0)\n",
            "Collecting graphviz<0.9.0,>=0.8.1\n",
            "  Downloading graphviz-0.8.4-py2.py3-none-any.whl (16 kB)\n",
            "Requirement already satisfied: idna<3,>=2.5 in /usr/local/lib/python3.7/dist-packages (from requests<3,>=2.20.0->mxnet-cu101==1.7.0) (2.10)\n",
            "Requirement already satisfied: certifi>=2017.4.17 in /usr/local/lib/python3.7/dist-packages (from requests<3,>=2.20.0->mxnet-cu101==1.7.0) (2021.5.30)\n",
            "Requirement already satisfied: chardet<4,>=3.0.2 in /usr/local/lib/python3.7/dist-packages (from requests<3,>=2.20.0->mxnet-cu101==1.7.0) (3.0.4)\n",
            "Requirement already satisfied: urllib3!=1.25.0,!=1.25.1,<1.26,>=1.21.1 in /usr/local/lib/python3.7/dist-packages (from requests<3,>=2.20.0->mxnet-cu101==1.7.0) (1.24.3)\n",
            "Installing collected packages: graphviz, mxnet-cu101\n",
            "  Attempting uninstall: graphviz\n",
            "    Found existing installation: graphviz 0.10.1\n",
            "    Uninstalling graphviz-0.10.1:\n",
            "      Successfully uninstalled graphviz-0.10.1\n",
            "Successfully installed graphviz-0.8.4 mxnet-cu101-1.7.0\n"
          ]
        }
      ]
    },
    {
      "cell_type": "markdown",
      "metadata": {
        "origin_pos": 0,
        "id": "7M216OEQhLvo"
      },
      "source": [
        "# Data Manipulation\n",
        ":label:`sec_ndarray`\n",
        "\n",
        "In order to get anything done, we need some way to store and manipulate data.\n",
        "Generally, there are two important things we need to do with data: (i) acquire\n",
        "them; and (ii) process them once they are inside the computer.  There is no\n",
        "point in acquiring data without some way to store it, so let us get our hands\n",
        "dirty first by playing with synthetic data.  To start, we introduce the\n",
        "$n$-dimensional array, which is also called the *tensor*.\n",
        "\n",
        "If you have worked with NumPy, the most widely-used\n",
        "scientific computing package in Python,\n",
        "then you will find this section familiar.\n",
        "No matter which framework you use,\n",
        "its *tensor class* (`ndarray` in MXNet,\n",
        "`Tensor` in both PyTorch and TensorFlow) is similar to NumPy's `ndarray` with\n",
        "a few killer features.\n",
        "First, GPU is well-supported to accelerate the computation\n",
        "whereas NumPy only supports CPU computation.\n",
        "Second, the tensor class\n",
        "supports automatic differentiation.\n",
        "These properties make the tensor class suitable for deep learning.\n",
        "Throughout the book, when we say tensors,\n",
        "we are referring to instances of the tensor class unless otherwise stated.\n",
        "\n",
        "## Getting Started\n",
        "\n",
        "In this section, we aim to get you up and running,\n",
        "equipping you with the basic math and numerical computing tools\n",
        "that you will build on as you progress through the book.\n",
        "Do not worry if you struggle to grok some of\n",
        "the mathematical concepts or library functions.\n",
        "The following sections will revisit this material\n",
        "in the context of practical examples and it will sink in.\n",
        "On the other hand, if you already have some background\n",
        "and want to go deeper into the mathematical content, just skip this section.\n"
      ]
    },
    {
      "cell_type": "markdown",
      "metadata": {
        "origin_pos": 1,
        "tab": [
          "mxnet"
        ],
        "id": "fEFycoL9hLvp"
      },
      "source": [
        "To start, we import the `np` (`numpy`) and\n",
        "`npx` (`numpy_extension`) modules from MXNet.\n",
        "Here, the `np` module includes functions supported by NumPy,\n",
        "while the `npx` module contains a set of extensions\n",
        "developed to empower deep learning within a NumPy-like environment.\n",
        "When using tensors, we almost always invoke the `set_np` function:\n",
        "this is for compatibility of tensor processing by other components of MXNet.\n"
      ]
    },
    {
      "cell_type": "code",
      "metadata": {
        "origin_pos": 4,
        "tab": [
          "mxnet"
        ],
        "id": "dKM--5lyhLvp"
      },
      "source": [
        "from mxnet import np, npx\n",
        "\n",
        "npx.set_np()"
      ],
      "execution_count": 3,
      "outputs": []
    },
    {
      "cell_type": "markdown",
      "metadata": {
        "origin_pos": 7,
        "id": "wjx77AiNhLvp"
      },
      "source": [
        "[**A tensor represents a (possibly multi-dimensional) array of numerical values.**]\n",
        "With one axis, a tensor corresponds (in math) to a *vector*.\n",
        "With two axes, a tensor corresponds to a *matrix*.\n",
        "Tensors with more than two axes do not have special\n",
        "mathematical names.\n",
        "\n",
        "To start, we can use `arange` to create a row vector `x`\n",
        "containing the first 12 integers starting with 0,\n",
        "though they are created as floats by default.\n",
        "Each of the values in a tensor is called an *element* of the tensor.\n",
        "For instance, there are 12 elements in the tensor `x`.\n",
        "Unless otherwise specified, a new tensor\n",
        "will be stored in main memory and designated for CPU-based computation.\n"
      ]
    },
    {
      "cell_type": "code",
      "metadata": {
        "origin_pos": 8,
        "tab": [
          "mxnet"
        ],
        "colab": {
          "base_uri": "https://localhost:8080/"
        },
        "id": "A1g9g4xFhLvp",
        "outputId": "4fef258d-99f6-4c04-a683-4412b5bbc2ba"
      },
      "source": [
        "x = np.arange(12)\n",
        "x"
      ],
      "execution_count": 4,
      "outputs": [
        {
          "output_type": "execute_result",
          "data": {
            "text/plain": [
              "array([ 0.,  1.,  2.,  3.,  4.,  5.,  6.,  7.,  8.,  9., 10., 11.])"
            ]
          },
          "metadata": {},
          "execution_count": 4
        }
      ]
    },
    {
      "cell_type": "markdown",
      "metadata": {
        "origin_pos": 11,
        "id": "ey3D_6dghLvq"
      },
      "source": [
        "(**We can access a tensor's *shape***) (~~and the total number of elements~~) (the length along each axis)\n",
        "by inspecting its `shape` property.\n"
      ]
    },
    {
      "cell_type": "code",
      "metadata": {
        "origin_pos": 12,
        "tab": [
          "mxnet"
        ],
        "colab": {
          "base_uri": "https://localhost:8080/"
        },
        "id": "AejuE0suhLvq",
        "outputId": "ae30ec35-5953-4033-9902-30f434f0685e"
      },
      "source": [
        "x.shape"
      ],
      "execution_count": 5,
      "outputs": [
        {
          "output_type": "execute_result",
          "data": {
            "text/plain": [
              "(12,)"
            ]
          },
          "metadata": {},
          "execution_count": 5
        }
      ]
    },
    {
      "cell_type": "markdown",
      "metadata": {
        "origin_pos": 13,
        "id": "NLUHsAv0hLvr"
      },
      "source": [
        "If we just want to know the total number of elements in a tensor,\n",
        "i.e., the product of all of the shape elements,\n",
        "we can inspect its size.\n",
        "Because we are dealing with a vector here,\n",
        "the single element of its `shape` is identical to its size.\n"
      ]
    },
    {
      "cell_type": "code",
      "metadata": {
        "origin_pos": 14,
        "tab": [
          "mxnet"
        ],
        "colab": {
          "base_uri": "https://localhost:8080/"
        },
        "id": "-lCZWcA-hLvr",
        "outputId": "9fdd651b-6516-4141-def7-81278c7e0bbc"
      },
      "source": [
        "x.size"
      ],
      "execution_count": 6,
      "outputs": [
        {
          "output_type": "execute_result",
          "data": {
            "text/plain": [
              "12"
            ]
          },
          "metadata": {},
          "execution_count": 6
        }
      ]
    },
    {
      "cell_type": "markdown",
      "metadata": {
        "origin_pos": 17,
        "id": "zR2_raEThLvr"
      },
      "source": [
        "To [**change the shape of a tensor without altering\n",
        "either the number of elements or their values**],\n",
        "we can invoke the `reshape` function.\n",
        "For example, we can transform our tensor, `x`,\n",
        "from a row vector with shape (12,) to a matrix with shape (3, 4).\n",
        "This new tensor contains the exact same values,\n",
        "but views them as a matrix organized as 3 rows and 4 columns.\n",
        "To reiterate, although the shape has changed,\n",
        "the elements have not.\n",
        "Note that the size is unaltered by reshaping.\n"
      ]
    },
    {
      "cell_type": "code",
      "metadata": {
        "origin_pos": 18,
        "tab": [
          "mxnet"
        ],
        "colab": {
          "base_uri": "https://localhost:8080/"
        },
        "id": "IK_h4YKPhLvr",
        "outputId": "c62d956a-3368-4c43-ddf6-090d94fcb7db"
      },
      "source": [
        "X = x.reshape(3, 4)\n",
        "X"
      ],
      "execution_count": 7,
      "outputs": [
        {
          "output_type": "execute_result",
          "data": {
            "text/plain": [
              "array([[ 0.,  1.,  2.,  3.],\n",
              "       [ 4.,  5.,  6.,  7.],\n",
              "       [ 8.,  9., 10., 11.]])"
            ]
          },
          "metadata": {},
          "execution_count": 7
        }
      ]
    },
    {
      "cell_type": "markdown",
      "metadata": {
        "origin_pos": 20,
        "id": "T4vjE3QKhLvs"
      },
      "source": [
        "Reshaping by manually specifying every dimension is unnecessary.\n",
        "If our target shape is a matrix with shape (height, width),\n",
        "then after we know the width, the height is given implicitly.\n",
        "Why should we have to perform the division ourselves?\n",
        "In the example above, to get a matrix with 3 rows,\n",
        "we specified both that it should have 3 rows and 4 columns.\n",
        "Fortunately, tensors can automatically work out one dimension given the rest.\n",
        "We invoke this capability by placing `-1` for the dimension\n",
        "that we would like tensors to automatically infer.\n",
        "In our case, instead of calling `x.reshape(3, 4)`,\n",
        "we could have equivalently called `x.reshape(-1, 4)` or `x.reshape(3, -1)`.\n",
        "\n",
        "Typically, we will want our matrices initialized\n",
        "either with zeros, ones, some other constants,\n",
        "or numbers randomly sampled from a specific distribution.\n",
        "[**We can create a tensor representing a tensor with all elements\n",
        "set to 0**] (~~or 1~~)\n",
        "and a shape of (2, 3, 4) as follows:\n"
      ]
    },
    {
      "cell_type": "code",
      "metadata": {
        "origin_pos": 21,
        "tab": [
          "mxnet"
        ],
        "colab": {
          "base_uri": "https://localhost:8080/"
        },
        "id": "rL3ueAXmhLvs",
        "outputId": "9a611716-ae1e-42da-f889-466408ef59a8"
      },
      "source": [
        "np.zeros((2, 3, 4))"
      ],
      "execution_count": 8,
      "outputs": [
        {
          "output_type": "execute_result",
          "data": {
            "text/plain": [
              "array([[[0., 0., 0., 0.],\n",
              "        [0., 0., 0., 0.],\n",
              "        [0., 0., 0., 0.]],\n",
              "\n",
              "       [[0., 0., 0., 0.],\n",
              "        [0., 0., 0., 0.],\n",
              "        [0., 0., 0., 0.]]])"
            ]
          },
          "metadata": {},
          "execution_count": 8
        }
      ]
    },
    {
      "cell_type": "markdown",
      "metadata": {
        "origin_pos": 24,
        "id": "TyE4xMHvhLvs"
      },
      "source": [
        "Similarly, we can create tensors with each element set to 1 as follows:\n"
      ]
    },
    {
      "cell_type": "code",
      "metadata": {
        "origin_pos": 25,
        "tab": [
          "mxnet"
        ],
        "colab": {
          "base_uri": "https://localhost:8080/"
        },
        "id": "szv5UKwVhLvs",
        "outputId": "bc81e3c1-3fc7-489e-ca73-d5d30a42b883"
      },
      "source": [
        "np.ones((2, 3, 4))"
      ],
      "execution_count": 9,
      "outputs": [
        {
          "output_type": "execute_result",
          "data": {
            "text/plain": [
              "array([[[1., 1., 1., 1.],\n",
              "        [1., 1., 1., 1.],\n",
              "        [1., 1., 1., 1.]],\n",
              "\n",
              "       [[1., 1., 1., 1.],\n",
              "        [1., 1., 1., 1.],\n",
              "        [1., 1., 1., 1.]]])"
            ]
          },
          "metadata": {},
          "execution_count": 9
        }
      ]
    },
    {
      "cell_type": "markdown",
      "metadata": {
        "origin_pos": 28,
        "id": "ZZbKZwfRhLvt"
      },
      "source": [
        "Often, we want to [**randomly sample the values\n",
        "for each element in a tensor**]\n",
        "from some probability distribution.\n",
        "For example, when we construct arrays to serve\n",
        "as parameters in a neural network, we will\n",
        "typically initialize their values randomly.\n",
        "The following snippet creates a tensor with shape (3, 4).\n",
        "Each of its elements is randomly sampled\n",
        "from a standard Gaussian (normal) distribution\n",
        "with a mean of 0 and a standard deviation of 1.\n"
      ]
    },
    {
      "cell_type": "code",
      "metadata": {
        "origin_pos": 29,
        "tab": [
          "mxnet"
        ],
        "colab": {
          "base_uri": "https://localhost:8080/"
        },
        "id": "_cxk_NFXhLvt",
        "outputId": "e96c9dbf-db57-43cd-8534-09aee99b16c4"
      },
      "source": [
        "np.random.normal(0, 1, size=(3, 4))"
      ],
      "execution_count": 47,
      "outputs": [
        {
          "output_type": "execute_result",
          "data": {
            "text/plain": [
              "array([[-1.771029  , -0.5459446 , -0.45138445, -2.3556297 ],\n",
              "       [ 0.57938355,  0.5414402 , -1.856082  ,  2.6785066 ],\n",
              "       [-1.9768796 ,  1.2546344 , -0.20801921, -0.54877394]])"
            ]
          },
          "metadata": {},
          "execution_count": 47
        }
      ]
    },
    {
      "cell_type": "markdown",
      "metadata": {
        "origin_pos": 32,
        "id": "Zfn61J5_hLvt"
      },
      "source": [
        "We can also [**specify the exact values for each element**] in the desired tensor\n",
        "by supplying a Python list (or list of lists) containing the numerical values.\n",
        "Here, the outermost list corresponds to axis 0, and the inner list to axis 1.\n"
      ]
    },
    {
      "cell_type": "code",
      "metadata": {
        "origin_pos": 33,
        "tab": [
          "mxnet"
        ],
        "colab": {
          "base_uri": "https://localhost:8080/"
        },
        "id": "kja2Ll9ChLvt",
        "outputId": "548fb06a-e31e-42c9-bca4-e377feb496c7"
      },
      "source": [
        "np.array([[2, 1, 4, 3], [1, 2, 3, 4], [4, 3, 2, 1]])"
      ],
      "execution_count": 11,
      "outputs": [
        {
          "output_type": "execute_result",
          "data": {
            "text/plain": [
              "array([[2., 1., 4., 3.],\n",
              "       [1., 2., 3., 4.],\n",
              "       [4., 3., 2., 1.]])"
            ]
          },
          "metadata": {},
          "execution_count": 11
        }
      ]
    },
    {
      "cell_type": "markdown",
      "metadata": {
        "origin_pos": 36,
        "id": "m7wmD6pdhLvt"
      },
      "source": [
        "## Operations\n",
        "\n",
        "This book is not about software engineering.\n",
        "Our interests are not limited to simply\n",
        "reading and writing data from/to arrays.\n",
        "We want to perform mathematical operations on those arrays.\n",
        "Some of the simplest and most useful operations\n",
        "are the *elementwise* operations.\n",
        "These apply a standard scalar operation\n",
        "to each element of an array.\n",
        "For functions that take two arrays as inputs,\n",
        "elementwise operations apply some standard binary operator\n",
        "on each pair of corresponding elements from the two arrays.\n",
        "We can create an elementwise function from any function\n",
        "that maps from a scalar to a scalar.\n",
        "\n",
        "In mathematical notation, we would denote such\n",
        "a *unary* scalar operator (taking one input)\n",
        "by the signature $f: \\mathbb{R} \\rightarrow \\mathbb{R}$.\n",
        "This just means that the function is mapping\n",
        "from any real number ($\\mathbb{R}$) onto another.\n",
        "Likewise, we denote a *binary* scalar operator\n",
        "(taking two real inputs, and yielding one output)\n",
        "by the signature $f: \\mathbb{R}, \\mathbb{R} \\rightarrow \\mathbb{R}$.\n",
        "Given any two vectors $\\mathbf{u}$ and $\\mathbf{v}$ *of the same shape*,\n",
        "and a binary operator $f$, we can produce a vector\n",
        "$\\mathbf{c} = F(\\mathbf{u},\\mathbf{v})$\n",
        "by setting $c_i \\gets f(u_i, v_i)$ for all $i$,\n",
        "where $c_i, u_i$, and $v_i$ are the $i^\\mathrm{th}$ elements\n",
        "of vectors $\\mathbf{c}, \\mathbf{u}$, and $\\mathbf{v}$.\n",
        "Here, we produced the vector-valued\n",
        "$F: \\mathbb{R}^d, \\mathbb{R}^d \\rightarrow \\mathbb{R}^d$\n",
        "by *lifting* the scalar function to an elementwise vector operation.\n",
        "\n",
        "The common standard arithmetic operators\n",
        "(`+`, `-`, `*`, `/`, and `**`)\n",
        "have all been *lifted* to elementwise operations\n",
        "for any identically-shaped tensors of arbitrary shape.\n",
        "We can call elementwise operations on any two tensors of the same shape.\n",
        "In the following example, we use commas to formulate a 5-element tuple,\n",
        "where each element is the result of an elementwise operation.\n",
        "\n",
        "### Operations\n",
        "\n",
        "[**The common standard arithmetic operators\n",
        "(`+`, `-`, `*`, `/`, and `**`)\n",
        "have all been *lifted* to elementwise operations.**]\n"
      ]
    },
    {
      "cell_type": "code",
      "metadata": {
        "origin_pos": 37,
        "tab": [
          "mxnet"
        ],
        "colab": {
          "base_uri": "https://localhost:8080/"
        },
        "id": "s8ymMBCnhLvu",
        "outputId": "90cb25c9-0096-4274-d727-bcc2040a1a6a"
      },
      "source": [
        "x = np.array([1, 2, 4, 8])\n",
        "y = np.array([2, 2, 2, 2])\n",
        "x + y, x - y, x * y, x / y, x**y  # The ** operator is exponentiation"
      ],
      "execution_count": 12,
      "outputs": [
        {
          "output_type": "execute_result",
          "data": {
            "text/plain": [
              "(array([ 3.,  4.,  6., 10.]),\n",
              " array([-1.,  0.,  2.,  6.]),\n",
              " array([ 2.,  4.,  8., 16.]),\n",
              " array([0.5, 1. , 2. , 4. ]),\n",
              " array([ 1.,  4., 16., 64.]))"
            ]
          },
          "metadata": {},
          "execution_count": 12
        }
      ]
    },
    {
      "cell_type": "markdown",
      "metadata": {
        "origin_pos": 40,
        "id": "B2uWOP42hLvu"
      },
      "source": [
        "Many (**more operations can be applied elementwise**),\n",
        "including unary operators like exponentiation.\n"
      ]
    },
    {
      "cell_type": "code",
      "metadata": {
        "origin_pos": 41,
        "tab": [
          "mxnet"
        ],
        "colab": {
          "base_uri": "https://localhost:8080/"
        },
        "id": "-PaDPE5whLvu",
        "outputId": "996467c2-3e08-4f22-9fb5-a30bdf1547e8"
      },
      "source": [
        "np.exp(x)"
      ],
      "execution_count": 13,
      "outputs": [
        {
          "output_type": "execute_result",
          "data": {
            "text/plain": [
              "array([2.7182817e+00, 7.3890562e+00, 5.4598148e+01, 2.9809580e+03])"
            ]
          },
          "metadata": {},
          "execution_count": 13
        }
      ]
    },
    {
      "cell_type": "markdown",
      "metadata": {
        "origin_pos": 44,
        "id": "0lpHx3PohLvu"
      },
      "source": [
        "In addition to elementwise computations,\n",
        "we can also perform linear algebra operations,\n",
        "including vector dot products and matrix multiplication.\n",
        "We will explain the crucial bits of linear algebra\n",
        "(with no assumed prior knowledge) in :numref:`sec_linear-algebra`.\n",
        "\n",
        "We can also [***concatenate* multiple tensors together,**]\n",
        "stacking them end-to-end to form a larger tensor.\n",
        "We just need to provide a list of tensors\n",
        "and tell the system along which axis to concatenate.\n",
        "The example below shows what happens when we concatenate\n",
        "two matrices along rows (axis 0, the first element of the shape)\n",
        "vs. columns (axis 1, the second element of the shape).\n",
        "We can see that the first output tensor's axis-0 length ($6$)\n",
        "is the sum of the two input tensors' axis-0 lengths ($3 + 3$);\n",
        "while the second output tensor's axis-1 length ($8$)\n",
        "is the sum of the two input tensors' axis-1 lengths ($4 + 4$).\n"
      ]
    },
    {
      "cell_type": "code",
      "metadata": {
        "origin_pos": 45,
        "tab": [
          "mxnet"
        ],
        "colab": {
          "base_uri": "https://localhost:8080/"
        },
        "id": "9ddwrecmhLvv",
        "outputId": "a7e1e237-5f84-4a9d-f093-0076d6c8ae6c"
      },
      "source": [
        "X = np.arange(12).reshape(3, 4)\n",
        "Y = np.array([[2, 1, 4, 3], [1, 2, 3, 4], [4, 3, 2, 1]])\n",
        "print(X,'\\n',Y)\n",
        "\n",
        "np.concatenate([X, Y], axis=0), np.concatenate([X, Y], axis=1)"
      ],
      "execution_count": 32,
      "outputs": [
        {
          "output_type": "stream",
          "name": "stdout",
          "text": [
            "[[ 0.  1.  2.  3.]\n",
            " [ 4.  5.  6.  7.]\n",
            " [ 8.  9. 10. 11.]] \n",
            " [[2. 1. 4. 3.]\n",
            " [1. 2. 3. 4.]\n",
            " [4. 3. 2. 1.]]\n"
          ]
        },
        {
          "output_type": "execute_result",
          "data": {
            "text/plain": [
              "(array([[ 0.,  1.,  2.,  3.],\n",
              "        [ 4.,  5.,  6.,  7.],\n",
              "        [ 8.,  9., 10., 11.],\n",
              "        [ 2.,  1.,  4.,  3.],\n",
              "        [ 1.,  2.,  3.,  4.],\n",
              "        [ 4.,  3.,  2.,  1.]]),\n",
              " array([[ 0.,  1.,  2.,  3.,  2.,  1.,  4.,  3.],\n",
              "        [ 4.,  5.,  6.,  7.,  1.,  2.,  3.,  4.],\n",
              "        [ 8.,  9., 10., 11.,  4.,  3.,  2.,  1.]]))"
            ]
          },
          "metadata": {},
          "execution_count": 32
        }
      ]
    },
    {
      "cell_type": "markdown",
      "metadata": {
        "origin_pos": 48,
        "id": "VHPzqM8thLvv"
      },
      "source": [
        "Sometimes, we want to [**construct a binary tensor via *logical statements*.**]\n",
        "Take `X == Y` as an example.\n",
        "For each position, if `X` and `Y` are equal at that position,\n",
        "the corresponding entry in the new tensor takes a value of 1,\n",
        "meaning that the logical statement `X == Y` is true at that position;\n",
        "otherwise that position takes 0.\n"
      ]
    },
    {
      "cell_type": "code",
      "metadata": {
        "origin_pos": 49,
        "tab": [
          "mxnet"
        ],
        "id": "WPNdJ1R7hLvv",
        "outputId": "abd6bedc-4054-418e-dde0-7415748902df"
      },
      "source": [
        "X == Y"
      ],
      "execution_count": null,
      "outputs": [
        {
          "data": {
            "text/plain": [
              "array([[False,  True, False,  True],\n",
              "       [False, False, False, False],\n",
              "       [False, False, False, False]])"
            ]
          },
          "execution_count": 13,
          "metadata": {},
          "output_type": "execute_result"
        }
      ]
    },
    {
      "cell_type": "markdown",
      "metadata": {
        "origin_pos": 50,
        "id": "okys5TIdhLvv"
      },
      "source": [
        "[**Summing all the elements in the tensor**] yields a tensor with only one element.\n"
      ]
    },
    {
      "cell_type": "code",
      "metadata": {
        "origin_pos": 51,
        "tab": [
          "mxnet"
        ],
        "colab": {
          "base_uri": "https://localhost:8080/"
        },
        "id": "VSEEl_0HhLvv",
        "outputId": "f9c76dd9-8cdb-4a3e-e730-a1058b0fcb08"
      },
      "source": [
        "#print(X)\n",
        "X.sum()"
      ],
      "execution_count": 21,
      "outputs": [
        {
          "output_type": "execute_result",
          "data": {
            "text/plain": [
              "array(66.)"
            ]
          },
          "metadata": {},
          "execution_count": 21
        }
      ]
    },
    {
      "cell_type": "markdown",
      "metadata": {
        "origin_pos": 53,
        "id": "mCDK0nqfhLvw"
      },
      "source": [
        "## Broadcasting Mechanism\n",
        ":label:`subsec_broadcasting`\n",
        "\n",
        "In the above section, we saw how to perform elementwise operations\n",
        "on two tensors of the same shape. Under certain conditions,\n",
        "even when shapes differ, we can still [**perform elementwise operations\n",
        "by invoking the *broadcasting mechanism*.**]\n",
        "This mechanism works in the following way:\n",
        "First, expand one or both arrays\n",
        "by copying elements appropriately\n",
        "so that after this transformation,\n",
        "the two tensors have the same shape.\n",
        "Second, carry out the elementwise operations\n",
        "on the resulting arrays.\n",
        "\n",
        "In most cases, we broadcast along an axis where an array\n",
        "initially only has length 1, such as in the following example:\n"
      ]
    },
    {
      "cell_type": "code",
      "metadata": {
        "origin_pos": 54,
        "tab": [
          "mxnet"
        ],
        "colab": {
          "base_uri": "https://localhost:8080/"
        },
        "id": "8AeXn1SBhLvw",
        "outputId": "09e4ccf4-dd32-46a3-d98d-4c9b4fce3c8a"
      },
      "source": [
        "a = np.arange(3).reshape(3, 1)\n",
        "b = np.arange(2).reshape(1, 2)\n",
        "a, b"
      ],
      "execution_count": 22,
      "outputs": [
        {
          "output_type": "execute_result",
          "data": {
            "text/plain": [
              "(array([[0.],\n",
              "        [1.],\n",
              "        [2.]]), array([[0., 1.]]))"
            ]
          },
          "metadata": {},
          "execution_count": 22
        }
      ]
    },
    {
      "cell_type": "markdown",
      "metadata": {
        "origin_pos": 57,
        "id": "Ft5WGPeQhLvw"
      },
      "source": [
        "Since `a` and `b` are $3\\times1$ and $1\\times2$ matrices respectively,\n",
        "their shapes do not match up if we want to add them.\n",
        "We *broadcast* the entries of both matrices into a larger $3\\times2$ matrix as follows:\n",
        "for matrix `a` it replicates the columns\n",
        "and for matrix `b` it replicates the rows\n",
        "before adding up both elementwise.\n"
      ]
    },
    {
      "cell_type": "code",
      "metadata": {
        "origin_pos": 58,
        "tab": [
          "mxnet"
        ],
        "colab": {
          "base_uri": "https://localhost:8080/"
        },
        "id": "Ui0n3roRhLvx",
        "outputId": "4bfbbbe3-6d34-430a-a80c-f8909ef1c3d7"
      },
      "source": [
        "a + b"
      ],
      "execution_count": 23,
      "outputs": [
        {
          "output_type": "execute_result",
          "data": {
            "text/plain": [
              "array([[0., 1.],\n",
              "       [1., 2.],\n",
              "       [2., 3.]])"
            ]
          },
          "metadata": {},
          "execution_count": 23
        }
      ]
    },
    {
      "cell_type": "markdown",
      "metadata": {
        "origin_pos": 59,
        "id": "bV_uOoXjhLvy"
      },
      "source": [
        "## Indexing and Slicing\n",
        "\n",
        "Just as in any other Python array, elements in a tensor can be accessed by index.\n",
        "As in any Python array, the first element has index 0\n",
        "and ranges are specified to include the first but *before* the last element.\n",
        "As in standard Python lists, we can access elements\n",
        "according to their relative position to the end of the list\n",
        "by using negative indices.\n",
        "\n",
        "Thus, [**`[-1]` selects the last element and `[1:3]`\n",
        "selects the second and the third elements**] as follows:\n"
      ]
    },
    {
      "cell_type": "code",
      "metadata": {
        "origin_pos": 60,
        "tab": [
          "mxnet"
        ],
        "colab": {
          "base_uri": "https://localhost:8080/"
        },
        "id": "ZZarTyjmhLvz",
        "outputId": "27a81ed1-9476-4857-f1a5-56dbb552c112"
      },
      "source": [
        "X[-1], X[1:3]"
      ],
      "execution_count": 24,
      "outputs": [
        {
          "output_type": "execute_result",
          "data": {
            "text/plain": [
              "(array([ 8.,  9., 10., 11.]), array([[ 4.,  5.,  6.,  7.],\n",
              "        [ 8.,  9., 10., 11.]]))"
            ]
          },
          "metadata": {},
          "execution_count": 24
        }
      ]
    },
    {
      "cell_type": "markdown",
      "metadata": {
        "origin_pos": 61,
        "tab": [
          "mxnet"
        ],
        "id": "6yIW_IdKhLv0"
      },
      "source": [
        "Beyond reading, (**we can also write elements of a matrix by specifying indices.**)\n"
      ]
    },
    {
      "cell_type": "code",
      "metadata": {
        "origin_pos": 63,
        "tab": [
          "mxnet"
        ],
        "colab": {
          "base_uri": "https://localhost:8080/"
        },
        "id": "SJr9DfYBhLv0",
        "outputId": "2ecc2eb7-5d5c-4047-a769-75b8fa9edfb7"
      },
      "source": [
        "X[1, 2] = 9\n",
        "X"
      ],
      "execution_count": 25,
      "outputs": [
        {
          "output_type": "execute_result",
          "data": {
            "text/plain": [
              "array([[ 0.,  1.,  2.,  3.],\n",
              "       [ 4.,  5.,  9.,  7.],\n",
              "       [ 8.,  9., 10., 11.]])"
            ]
          },
          "metadata": {},
          "execution_count": 25
        }
      ]
    },
    {
      "cell_type": "markdown",
      "metadata": {
        "origin_pos": 65,
        "id": "dID5U8KvhLv0"
      },
      "source": [
        "If we want [**to assign multiple elements the same value,\n",
        "we simply index all of them and then assign them the value.**]\n",
        "For instance, `[0:2, :]` accesses the first and second rows,\n",
        "where `:` takes all the elements along axis 1 (column).\n",
        "While we discussed indexing for matrices,\n",
        "this obviously also works for vectors\n",
        "and for tensors of more than 2 dimensions.\n"
      ]
    },
    {
      "cell_type": "code",
      "metadata": {
        "origin_pos": 66,
        "tab": [
          "mxnet"
        ],
        "colab": {
          "base_uri": "https://localhost:8080/"
        },
        "id": "YfnJxo1DhLv0",
        "outputId": "afd3ec08-08da-4cfa-d457-35da323ebadc"
      },
      "source": [
        "X[0:2, :] = 12\n",
        "X"
      ],
      "execution_count": 26,
      "outputs": [
        {
          "output_type": "execute_result",
          "data": {
            "text/plain": [
              "array([[12., 12., 12., 12.],\n",
              "       [12., 12., 12., 12.],\n",
              "       [ 8.,  9., 10., 11.]])"
            ]
          },
          "metadata": {},
          "execution_count": 26
        }
      ]
    },
    {
      "cell_type": "markdown",
      "metadata": {
        "origin_pos": 68,
        "id": "X6xFWL1mhLv1"
      },
      "source": [
        "## Saving Memory\n",
        "\n",
        "[**Running operations can cause new memory to be\n",
        "allocated to host results.**]\n",
        "For example, if we write `Y = X + Y`,\n",
        "we will dereference the tensor that `Y` used to point to\n",
        "and instead point `Y` at the newly allocated memory.\n",
        "In the following example, we demonstrate this with Python's `id()` function,\n",
        "which gives us the exact address of the referenced object in memory.\n",
        "After running `Y = Y + X`, we will find that `id(Y)` points to a different location.\n",
        "That is because Python first evaluates `Y + X`,\n",
        "allocating new memory for the result and then makes `Y`\n",
        "point to this new location in memory.\n"
      ]
    },
    {
      "cell_type": "code",
      "metadata": {
        "origin_pos": 69,
        "tab": [
          "mxnet"
        ],
        "colab": {
          "base_uri": "https://localhost:8080/"
        },
        "id": "Tlcd-aP1hLv1",
        "outputId": "2953f44a-c757-48f3-b898-c9941c2aba42"
      },
      "source": [
        "before = id(Y)\n",
        "Y = Y + X\n",
        "id(Y) == before"
      ],
      "execution_count": 27,
      "outputs": [
        {
          "output_type": "execute_result",
          "data": {
            "text/plain": [
              "False"
            ]
          },
          "metadata": {},
          "execution_count": 27
        }
      ]
    },
    {
      "cell_type": "markdown",
      "metadata": {
        "origin_pos": 70,
        "id": "Injc9Zg9hLv1"
      },
      "source": [
        "This might be undesirable for two reasons.\n",
        "First, we do not want to run around\n",
        "allocating memory unnecessarily all the time.\n",
        "In machine learning, we might have\n",
        "hundreds of megabytes of parameters\n",
        "and update all of them multiple times per second.\n",
        "Typically, we will want to perform these updates *in place*.\n",
        "Second, we might point at the same parameters from multiple variables.\n",
        "If we do not update in place, other references will still point to\n",
        "the old memory location, making it possible for parts of our code\n",
        "to inadvertently reference stale parameters.\n"
      ]
    },
    {
      "cell_type": "markdown",
      "metadata": {
        "origin_pos": 71,
        "tab": [
          "mxnet"
        ],
        "id": "1dd2LvsBhLv2"
      },
      "source": [
        "Fortunately, (**performing in-place operations**) is easy.\n",
        "We can assign the result of an operation\n",
        "to a previously allocated array with slice notation,\n",
        "e.g., `Y[:] = <expression>`.\n",
        "To illustrate this concept, we first create a new matrix `Z`\n",
        "with the same shape as another `Y`,\n",
        "using `zeros_like` to allocate a block of $0$ entries.\n"
      ]
    },
    {
      "cell_type": "code",
      "metadata": {
        "origin_pos": 73,
        "tab": [
          "mxnet"
        ],
        "colab": {
          "base_uri": "https://localhost:8080/"
        },
        "id": "inZm-PumhLv2",
        "outputId": "e31860c6-bebe-47d1-a8cd-fa7bdefe68f0"
      },
      "source": [
        "Z = np.zeros_like(Y)\n",
        "print('id(Z):', id(Z))\n",
        "Z[:] = X + Y\n",
        "print('id(Z):', id(Z))"
      ],
      "execution_count": 28,
      "outputs": [
        {
          "output_type": "stream",
          "name": "stdout",
          "text": [
            "id(Z): 140716879663824\n",
            "id(Z): 140716879663824\n"
          ]
        }
      ]
    },
    {
      "cell_type": "markdown",
      "metadata": {
        "origin_pos": 76,
        "tab": [
          "mxnet"
        ],
        "id": "-kpiSs_-hLv2"
      },
      "source": [
        "[**If the value of `X` is not reused in subsequent computations,\n",
        "we can also use `X[:] = X + Y` or `X += Y`\n",
        "to reduce the memory overhead of the operation.**]\n"
      ]
    },
    {
      "cell_type": "code",
      "metadata": {
        "origin_pos": 78,
        "tab": [
          "mxnet"
        ],
        "colab": {
          "base_uri": "https://localhost:8080/"
        },
        "id": "u62UI_11hLv2",
        "outputId": "283ed0b1-b854-4d03-a926-b14e6dc2e9e4"
      },
      "source": [
        "before = id(X)\n",
        "X += Y\n",
        "id(X) == before"
      ],
      "execution_count": 29,
      "outputs": [
        {
          "output_type": "execute_result",
          "data": {
            "text/plain": [
              "True"
            ]
          },
          "metadata": {},
          "execution_count": 29
        }
      ]
    },
    {
      "cell_type": "markdown",
      "metadata": {
        "origin_pos": 80,
        "id": "OZw6RuRQhLv2"
      },
      "source": [
        "## Conversion to Other Python Objects\n"
      ]
    },
    {
      "cell_type": "markdown",
      "metadata": {
        "origin_pos": 81,
        "tab": [
          "mxnet"
        ],
        "id": "xRH7V9BLhLv2"
      },
      "source": [
        "[**Converting to a NumPy tensor (`ndarray`)**], or vice versa, is easy.\n",
        "The converted result does not share memory.\n",
        "This minor inconvenience is actually quite important:\n",
        "when you perform operations on the CPU or on GPUs,\n",
        "you do not want to halt computation, waiting to see\n",
        "whether the NumPy package of Python might want to be doing something else\n",
        "with the same chunk of memory.\n"
      ]
    },
    {
      "cell_type": "code",
      "metadata": {
        "origin_pos": 83,
        "tab": [
          "mxnet"
        ],
        "colab": {
          "base_uri": "https://localhost:8080/"
        },
        "id": "RlxdH5_KhLv2",
        "outputId": "c86d9933-177f-4fe9-8395-71365469838b"
      },
      "source": [
        "A = X.asnumpy()\n",
        "B = np.array(A)\n",
        "type(A), type(B)"
      ],
      "execution_count": 30,
      "outputs": [
        {
          "output_type": "execute_result",
          "data": {
            "text/plain": [
              "(numpy.ndarray, mxnet.numpy.ndarray)"
            ]
          },
          "metadata": {},
          "execution_count": 30
        }
      ]
    },
    {
      "cell_type": "markdown",
      "metadata": {
        "origin_pos": 86,
        "id": "vdAEchanhLv3"
      },
      "source": [
        "To (**convert a size-1 tensor to a Python scalar**),\n",
        "we can invoke the `item` function or Python's built-in functions.\n"
      ]
    },
    {
      "cell_type": "code",
      "metadata": {
        "origin_pos": 87,
        "tab": [
          "mxnet"
        ],
        "colab": {
          "base_uri": "https://localhost:8080/"
        },
        "id": "00W7aG4KhLv3",
        "outputId": "acbfe89e-cd63-4d45-d9ff-b2ccbc5b5389"
      },
      "source": [
        "a = np.array([3.5])\n",
        "a, a.item(), float(a), int(a)"
      ],
      "execution_count": 31,
      "outputs": [
        {
          "output_type": "execute_result",
          "data": {
            "text/plain": [
              "(array([3.5]), 3.5, 3.5, 3)"
            ]
          },
          "metadata": {},
          "execution_count": 31
        }
      ]
    },
    {
      "cell_type": "markdown",
      "metadata": {
        "origin_pos": 90,
        "id": "TbufBnbghLv3"
      },
      "source": [
        "## Summary\n",
        "\n",
        "* The main interface to store and manipulate data for deep learning is the tensor ($n$-dimensional array). It provides a variety of functionalities including basic mathematics operations, broadcasting, indexing, slicing, memory saving, and conversion to other Python objects.\n",
        "\n",
        "\n",
        "## Exercises\n",
        "\n",
        "1. Run the code in this section. Change the conditional statement `X == Y` in this section to `X < Y` or `X > Y`, and then see what kind of tensor you can get.\n",
        "1. Replace the two tensors that operate by element in the broadcasting mechanism with other shapes, e.g., 3-dimensional tensors. Is the result the same as expected?\n"
      ]
    },
    {
      "cell_type": "code",
      "metadata": {
        "colab": {
          "base_uri": "https://localhost:8080/"
        },
        "id": "fNb3oPGKtHEF",
        "outputId": "63566b19-7f4e-43b5-c8d4-53c2c350e7d3"
      },
      "source": [
        "X > Y"
      ],
      "execution_count": 35,
      "outputs": [
        {
          "output_type": "execute_result",
          "data": {
            "text/plain": [
              "array([[False, False, False, False],\n",
              "       [ True,  True,  True,  True],\n",
              "       [ True,  True,  True,  True]])"
            ]
          },
          "metadata": {},
          "execution_count": 35
        }
      ]
    },
    {
      "cell_type": "code",
      "metadata": {
        "colab": {
          "base_uri": "https://localhost:8080/"
        },
        "id": "7E70ioT2tY5S",
        "outputId": "7992e6c0-4dbe-4133-98f7-d8e5958e62d4"
      },
      "source": [
        "a = np.arange(12).reshape(2, 2, 3)\n",
        "b = np.arange(12).reshape(2,3, -1)\n",
        "a, b"
      ],
      "execution_count": 42,
      "outputs": [
        {
          "output_type": "execute_result",
          "data": {
            "text/plain": [
              "(array([[[ 0.,  1.,  2.],\n",
              "         [ 3.,  4.,  5.]],\n",
              " \n",
              "        [[ 6.,  7.,  8.],\n",
              "         [ 9., 10., 11.]]]), array([[[ 0.,  1.],\n",
              "         [ 2.,  3.],\n",
              "         [ 4.,  5.]],\n",
              " \n",
              "        [[ 6.,  7.],\n",
              "         [ 8.,  9.],\n",
              "         [10., 11.]]]))"
            ]
          },
          "metadata": {},
          "execution_count": 42
        }
      ]
    },
    {
      "cell_type": "code",
      "metadata": {
        "colab": {
          "base_uri": "https://localhost:8080/",
          "height": 164
        },
        "id": "7bupzu1GtngL",
        "outputId": "c5fbb4f9-5aaa-4c18-95dd-2b05823591a3"
      },
      "source": [
        "a + b"
      ],
      "execution_count": 11,
      "outputs": [
        {
          "output_type": "error",
          "ename": "NameError",
          "evalue": "ignored",
          "traceback": [
            "\u001b[0;31m---------------------------------------------------------------------------\u001b[0m",
            "\u001b[0;31mNameError\u001b[0m                                 Traceback (most recent call last)",
            "\u001b[0;32m<ipython-input-11-bd58363a63fc>\u001b[0m in \u001b[0;36m<module>\u001b[0;34m()\u001b[0m\n\u001b[0;32m----> 1\u001b[0;31m \u001b[0ma\u001b[0m \u001b[0;34m+\u001b[0m \u001b[0mb\u001b[0m\u001b[0;34m\u001b[0m\u001b[0;34m\u001b[0m\u001b[0m\n\u001b[0m",
            "\u001b[0;31mNameError\u001b[0m: name 'a' is not defined"
          ]
        }
      ]
    },
    {
      "cell_type": "markdown",
      "metadata": {
        "id": "HwQMBoVLzPfs"
      },
      "source": [
        "#ctx.gpu()"
      ]
    },
    {
      "cell_type": "code",
      "metadata": {
        "colab": {
          "base_uri": "https://localhost:8080/"
        },
        "id": "dW1pf7Obwowy",
        "outputId": "ee0b432c-1ad3-4146-d0b7-8d15f53b5db3"
      },
      "source": [
        "from time import time\n",
        "\n",
        "size = 4096\n",
        "\n",
        "A = np.random.uniform(size=(size, size), ctx=npx.gpu())\n",
        "B = np.random.uniform(size=(size, size), ctx=npx.gpu())\n",
        "t = time()\n",
        "for i in range(100):\n",
        "  c = np.dot(A,B)\n",
        "print(time() - t)"
      ],
      "execution_count": 9,
      "outputs": [
        {
          "output_type": "stream",
          "name": "stdout",
          "text": [
            "0.007598876953125\n"
          ]
        }
      ]
    },
    {
      "cell_type": "code",
      "metadata": {
        "colab": {
          "base_uri": "https://localhost:8080/"
        },
        "id": "R5rOnlbNyjqB",
        "outputId": "2aa6a1fa-e27b-4a9f-8625-04a7f8a90350"
      },
      "source": [
        "from time import time\n",
        "\n",
        "size = 4096\n",
        "\n",
        "A = np.random.uniform(size=(size, size))\n",
        "B = np.random.uniform(size=(size, size))\n",
        "t = time()\n",
        "for i in range(100):\n",
        "  c = np.dot(A,B)\n",
        "print(time() - t)"
      ],
      "execution_count": 10,
      "outputs": [
        {
          "output_type": "stream",
          "name": "stdout",
          "text": [
            "0.009355306625366211\n"
          ]
        }
      ]
    },
    {
      "cell_type": "code",
      "metadata": {
        "id": "FAuNFFR4wori"
      },
      "source": [
        "\n",
        "import mxnet.numpy as np\n",
        "from mxnet import npx \n",
        "\n",
        "npx.set_np()  # Change MXNet to the numpy-like mode.\n",
        "\n",
        "# Generate synthetic data\n",
        "sample_size = 10000\n",
        "X = np.random.normal(loc=2, scale=1, size=(sample_size,2))\n",
        "X = np.concatenate((X, np.random.normal(loc=-2, scale=1, size=(sample_size, 2))))\n",
        "y = np.zeros((sample_size))\n",
        "y = np.concatenate((y, np.ones(sample_size)))"
      ],
      "execution_count": 3,
      "outputs": []
    },
    {
      "cell_type": "code",
      "metadata": {
        "id": "S4UmWcIhx-j7"
      },
      "source": [
        "X = np.random.normal(loc=2, scale=1, size=(sample_size,2), ctx=npx.gpu())\n",
        "X = np.concatenate((X, np.random.normal(loc=-2, scale=1, size=(sample_size, 2), ctx=npx.gpu())))\n",
        "y = np.zeros((sample_size), ctx=npx.gpu())\n",
        "y = np.concatenate((y, np.ones(sample_size, ctx=npx.gpu())))"
      ],
      "execution_count": 4,
      "outputs": []
    },
    {
      "cell_type": "markdown",
      "metadata": {
        "origin_pos": 91,
        "tab": [
          "mxnet"
        ],
        "id": "IiOoT667hLv3"
      },
      "source": [
        "[Discussions](https://discuss.d2l.ai/t/26)\n"
      ]
    }
  ]
}