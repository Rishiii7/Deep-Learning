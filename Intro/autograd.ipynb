{
  "nbformat": 4,
  "nbformat_minor": 0,
  "metadata": {
    "kernelspec": {
      "display_name": "Python 3",
      "name": "python3"
    },
    "language_info": {
      "name": "python"
    },
    "colab": {
      "name": "autograd.ipynb",
      "provenance": []
    },
    "accelerator": "GPU"
  },
  "cells": [
    {
      "cell_type": "markdown",
      "metadata": {
        "id": "s7HW4CTyk6uv"
      },
      "source": [
        "The following additional libraries are needed to run this\n",
        "notebook. Note that running on Colab is experimental, please report a Github\n",
        "issue if you have any problem."
      ]
    },
    {
      "cell_type": "code",
      "metadata": {
        "id": "Str61PXfk6ux",
        "outputId": "12e3b896-820f-44ea-e0a0-58c9005ce514",
        "colab": {
          "base_uri": "https://localhost:8080/"
        }
      },
      "source": [
        "!pip install -U mxnet-cu101==1.7.0\n"
      ],
      "execution_count": 1,
      "outputs": [
        {
          "output_type": "stream",
          "name": "stdout",
          "text": [
            "Collecting mxnet-cu101==1.7.0\n",
            "  Downloading mxnet_cu101-1.7.0-py2.py3-none-manylinux2014_x86_64.whl (846.0 MB)\n",
            "\u001b[K     |███████████████████████████████▌| 834.1 MB 1.2 MB/s eta 0:00:10tcmalloc: large alloc 1147494400 bytes == 0x55a00909e000 @  0x7f356a8cc615 0x559fcf67f02c 0x559fcf75f17a 0x559fcf681e4d 0x559fcf773c0d 0x559fcf6f60d8 0x559fcf6f0c35 0x559fcf68373a 0x559fcf6f5f40 0x559fcf6f0c35 0x559fcf68373a 0x559fcf6f293b 0x559fcf774a56 0x559fcf6f1fb3 0x559fcf774a56 0x559fcf6f1fb3 0x559fcf774a56 0x559fcf6f1fb3 0x559fcf683b99 0x559fcf6c6e79 0x559fcf6827b2 0x559fcf6f5e65 0x559fcf6f0c35 0x559fcf68373a 0x559fcf6f293b 0x559fcf6f0c35 0x559fcf68373a 0x559fcf6f1b0e 0x559fcf68365a 0x559fcf6f1d67 0x559fcf6f0c35\n",
            "\u001b[K     |████████████████████████████████| 846.0 MB 21 kB/s \n",
            "\u001b[?25hRequirement already satisfied: requests<3,>=2.20.0 in /usr/local/lib/python3.7/dist-packages (from mxnet-cu101==1.7.0) (2.23.0)\n",
            "Requirement already satisfied: numpy<2.0.0,>1.16.0 in /usr/local/lib/python3.7/dist-packages (from mxnet-cu101==1.7.0) (1.19.5)\n",
            "Collecting graphviz<0.9.0,>=0.8.1\n",
            "  Downloading graphviz-0.8.4-py2.py3-none-any.whl (16 kB)\n",
            "Requirement already satisfied: idna<3,>=2.5 in /usr/local/lib/python3.7/dist-packages (from requests<3,>=2.20.0->mxnet-cu101==1.7.0) (2.10)\n",
            "Requirement already satisfied: chardet<4,>=3.0.2 in /usr/local/lib/python3.7/dist-packages (from requests<3,>=2.20.0->mxnet-cu101==1.7.0) (3.0.4)\n",
            "Requirement already satisfied: urllib3!=1.25.0,!=1.25.1,<1.26,>=1.21.1 in /usr/local/lib/python3.7/dist-packages (from requests<3,>=2.20.0->mxnet-cu101==1.7.0) (1.24.3)\n",
            "Requirement already satisfied: certifi>=2017.4.17 in /usr/local/lib/python3.7/dist-packages (from requests<3,>=2.20.0->mxnet-cu101==1.7.0) (2021.5.30)\n",
            "Installing collected packages: graphviz, mxnet-cu101\n",
            "  Attempting uninstall: graphviz\n",
            "    Found existing installation: graphviz 0.10.1\n",
            "    Uninstalling graphviz-0.10.1:\n",
            "      Successfully uninstalled graphviz-0.10.1\n",
            "Successfully installed graphviz-0.8.4 mxnet-cu101-1.7.0\n"
          ]
        }
      ]
    },
    {
      "cell_type": "markdown",
      "metadata": {
        "origin_pos": 0,
        "id": "-Troixyrk6uy"
      },
      "source": [
        "# Automatic Differentiation\n",
        ":label:`sec_autograd`\n",
        "\n",
        "As we have explained in :numref:`sec_calculus`,\n",
        "differentiation is a crucial step in nearly all deep learning optimization algorithms.\n",
        "While the calculations for taking these derivatives are straightforward,\n",
        "requiring only some basic calculus,\n",
        "for complex models, working out the updates by hand\n",
        "can be a pain (and often error-prone).\n",
        "\n",
        "Deep learning frameworks expedite this work\n",
        "by automatically calculating derivatives, i.e., *automatic differentiation*.\n",
        "In practice,\n",
        "based on our designed model\n",
        "the system builds a *computational graph*,\n",
        "tracking which data combined through\n",
        "which operations to produce the output.\n",
        "Automatic differentiation enables the system to subsequently backpropagate gradients.\n",
        "Here, *backpropagate* simply means to trace through the computational graph,\n",
        "filling in the partial derivatives with respect to each parameter.\n",
        "\n",
        "\n",
        "## A Simple Example\n",
        "\n",
        "As a toy example, say that we are interested\n",
        "in (**differentiating the function\n",
        "$y = 2\\mathbf{x}^{\\top}\\mathbf{x}$\n",
        "with respect to the column vector $\\mathbf{x}$.**)\n",
        "To start, let us create the variable `x` and assign it an initial value.\n"
      ]
    },
    {
      "cell_type": "code",
      "metadata": {
        "origin_pos": 1,
        "tab": [
          "mxnet"
        ],
        "id": "G1-Et5JKk6uz",
        "outputId": "2d18ac95-36cd-4493-aef1-c1c435f15eb8",
        "colab": {
          "base_uri": "https://localhost:8080/"
        }
      },
      "source": [
        "from mxnet import autograd, np, npx\n",
        "\n",
        "npx.set_np()\n",
        "ctx = npx.gpu()\n",
        "\n",
        "x = np.arange(4.0 , ctx = ctx)\n",
        "x"
      ],
      "execution_count": 2,
      "outputs": [
        {
          "output_type": "execute_result",
          "data": {
            "text/plain": [
              "array([0., 1., 2., 3.], ctx=gpu(0))"
            ]
          },
          "metadata": {},
          "execution_count": 2
        }
      ]
    },
    {
      "cell_type": "markdown",
      "metadata": {
        "origin_pos": 4,
        "id": "fAs26pfTk6uz"
      },
      "source": [
        "[**Before we even calculate the gradient\n",
        "of $y$ with respect to $\\mathbf{x}$,\n",
        "we will need a place to store it.**]\n",
        "It is important that we do not allocate new memory\n",
        "every time we take a derivative with respect to a parameter\n",
        "because we will often update the same parameters\n",
        "thousands or millions of times\n",
        "and could quickly run out of memory.\n",
        "Note that a gradient of a scalar-valued function\n",
        "with respect to a vector $\\mathbf{x}$\n",
        "is itself vector-valued and has the same shape as $\\mathbf{x}$.\n"
      ]
    },
    {
      "cell_type": "code",
      "metadata": {
        "origin_pos": 5,
        "tab": [
          "mxnet"
        ],
        "id": "ziBNxuI7k6u0",
        "outputId": "38799ada-f12e-4cd8-83e9-aa32d48b9e1e",
        "colab": {
          "base_uri": "https://localhost:8080/"
        }
      },
      "source": [
        "# We allocate memory for a tensor's gradient by invoking `attach_grad`\n",
        "x.attach_grad()\n",
        "# After we calculate a gradient taken with respect to `x`, we will be able to\n",
        "# access it via the `grad` attribute, whose values are initialized with 0s\n",
        "x.grad"
      ],
      "execution_count": 3,
      "outputs": [
        {
          "output_type": "execute_result",
          "data": {
            "text/plain": [
              "array([0., 0., 0., 0.], ctx=gpu(0))"
            ]
          },
          "metadata": {},
          "execution_count": 3
        }
      ]
    },
    {
      "cell_type": "markdown",
      "metadata": {
        "origin_pos": 8,
        "id": "XOZmiJJIk6u0"
      },
      "source": [
        "(**Now let us calculate $y$.**)\n"
      ]
    },
    {
      "cell_type": "code",
      "metadata": {
        "origin_pos": 9,
        "tab": [
          "mxnet"
        ],
        "id": "9LyL_7fak6u0",
        "outputId": "8af6cf0e-a75c-42c0-af94-930c7f5b01f9",
        "colab": {
          "base_uri": "https://localhost:8080/"
        }
      },
      "source": [
        "# Place our code inside an `autograd.record` scope to build the computational\n",
        "# graph\n",
        "with autograd.record():\n",
        "    y = 2 * np.dot(x, x)\n",
        "y"
      ],
      "execution_count": 20,
      "outputs": [
        {
          "output_type": "execute_result",
          "data": {
            "text/plain": [
              "array(28., ctx=gpu(0))"
            ]
          },
          "metadata": {},
          "execution_count": 20
        }
      ]
    },
    {
      "cell_type": "markdown",
      "metadata": {
        "origin_pos": 12,
        "id": "ZWenKVaCk6u1"
      },
      "source": [
        "Since `x` is a vector of length 4,\n",
        "an dot product of `x` and `x` is performed,\n",
        "yielding the scalar output that we assign to `y`.\n",
        "Next, [**we can automatically calculate the gradient of `y`\n",
        "with respect to each component of `x`**]\n",
        "by calling the function for backpropagation and printing the gradient.\n"
      ]
    },
    {
      "cell_type": "code",
      "metadata": {
        "origin_pos": 13,
        "tab": [
          "mxnet"
        ],
        "id": "9eZgv3emk6u1",
        "outputId": "027762bb-0d1d-481b-b9de-aca408f8d433",
        "colab": {
          "base_uri": "https://localhost:8080/"
        }
      },
      "source": [
        "y.backward()\n",
        "x.grad"
      ],
      "execution_count": 21,
      "outputs": [
        {
          "output_type": "execute_result",
          "data": {
            "text/plain": [
              "array([ 0.,  4.,  8., 12.], ctx=gpu(0))"
            ]
          },
          "metadata": {},
          "execution_count": 21
        }
      ]
    },
    {
      "cell_type": "markdown",
      "metadata": {
        "origin_pos": 16,
        "id": "i377vn1Sk6u1"
      },
      "source": [
        "(**The gradient of the function $y = 2\\mathbf{x}^{\\top}\\mathbf{x}$\n",
        "with respect to $\\mathbf{x}$ should be $4\\mathbf{x}$.**)\n",
        "Let us quickly verify that our desired gradient was calculated correctly.\n"
      ]
    },
    {
      "cell_type": "code",
      "metadata": {
        "origin_pos": 17,
        "tab": [
          "mxnet"
        ],
        "id": "SKROxouUk6u2",
        "outputId": "716ee733-e8cb-451a-bde8-a9f26f9fd5cb",
        "colab": {
          "base_uri": "https://localhost:8080/"
        }
      },
      "source": [
        "x.grad == 4 * x"
      ],
      "execution_count": 22,
      "outputs": [
        {
          "output_type": "execute_result",
          "data": {
            "text/plain": [
              "array([ True,  True,  True,  True], ctx=gpu(0))"
            ]
          },
          "metadata": {},
          "execution_count": 22
        }
      ]
    },
    {
      "cell_type": "markdown",
      "metadata": {
        "origin_pos": 20,
        "id": "ITYwA93gk6u2"
      },
      "source": [
        "[**Now let us calculate another function of `x`.**]\n"
      ]
    },
    {
      "cell_type": "code",
      "metadata": {
        "origin_pos": 21,
        "tab": [
          "mxnet"
        ],
        "id": "DvU60VJwk6u2",
        "outputId": "a8fc5d7f-cb5b-4f5a-ad41-9ee3beae194d",
        "colab": {
          "base_uri": "https://localhost:8080/"
        }
      },
      "source": [
        "with autograd.record():\n",
        "    y = x.sum()\n",
        "y.backward()\n",
        "x.grad  # Overwritten by the newly calculated gradient"
      ],
      "execution_count": 23,
      "outputs": [
        {
          "output_type": "execute_result",
          "data": {
            "text/plain": [
              "array([1., 1., 1., 1.], ctx=gpu(0))"
            ]
          },
          "metadata": {},
          "execution_count": 23
        }
      ]
    },
    {
      "cell_type": "markdown",
      "metadata": {
        "origin_pos": 24,
        "id": "HAOe2Co_k6u3"
      },
      "source": [
        "## Backward for Non-Scalar Variables\n",
        "\n",
        "Technically, when `y` is not a scalar,\n",
        "the most natural interpretation of the differentiation of a vector `y`\n",
        "with respect to a vector `x` is a matrix.\n",
        "For higher-order and higher-dimensional `y` and `x`,\n",
        "the differentiation result could be a high-order tensor.\n",
        "\n",
        "However, while these more exotic objects do show up\n",
        "in advanced machine learning (including [**in deep learning**]),\n",
        "more often (**when we are calling backward on a vector,**)\n",
        "we are trying to calculate the derivatives of the loss functions\n",
        "for each constituent of a *batch* of training examples.\n",
        "Here, (**our intent is**) not to calculate the differentiation matrix\n",
        "but rather (**the sum of the partial derivatives\n",
        "computed individually for each example**) in the batch.\n"
      ]
    },
    {
      "cell_type": "code",
      "metadata": {
        "origin_pos": 25,
        "tab": [
          "mxnet"
        ],
        "id": "Z-4tEAKlk6u3",
        "outputId": "1240097f-d69c-4fcb-dad9-65ed866dc5ad",
        "colab": {
          "base_uri": "https://localhost:8080/"
        }
      },
      "source": [
        "# When we invoke `backward` on a vector-valued variable `y` (function of `x`),\n",
        "# a new scalar variable is created by summing the elements in `y`. Then the\n",
        "# gradient of that scalar variable with respect to `x` is computed\n",
        "with autograd.record():\n",
        "    y = x * x  # `y` is a vector\n",
        "y.backward()\n",
        "x.grad  # Equals to y = sum(x * x)"
      ],
      "execution_count": 24,
      "outputs": [
        {
          "output_type": "execute_result",
          "data": {
            "text/plain": [
              "array([0., 2., 4., 6.], ctx=gpu(0))"
            ]
          },
          "metadata": {},
          "execution_count": 24
        }
      ]
    },
    {
      "cell_type": "markdown",
      "metadata": {
        "origin_pos": 28,
        "id": "Vtn6wI04k6u3"
      },
      "source": [
        "## Detaching Computation\n",
        "\n",
        "Sometimes, we wish to [**move some calculations\n",
        "outside of the recorded computational graph.**]\n",
        "For example, say that `y` was calculated as a function of `x`,\n",
        "and that subsequently `z` was calculated as a function of both `y` and `x`.\n",
        "Now, imagine that we wanted to calculate\n",
        "the gradient of `z` with respect to `x`,\n",
        "but wanted for some reason to treat `y` as a constant,\n",
        "and only take into account the role\n",
        "that `x` played after `y` was calculated.\n",
        "\n",
        "Here, we can detach `y` to return a new variable `u`\n",
        "that has the same value as `y` but discards any information\n",
        "about how `y` was computed in the computational graph.\n",
        "In other words, the gradient will not flow backwards through `u` to `x`.\n",
        "Thus, the following backpropagation function computes\n",
        "the partial derivative of `z = u * x` with respect to `x` while treating `u` as a constant,\n",
        "instead of the partial derivative of `z = x * x * x` with respect to `x`.\n"
      ]
    },
    {
      "cell_type": "code",
      "metadata": {
        "origin_pos": 29,
        "tab": [
          "mxnet"
        ],
        "id": "9c54hJ15k6u4",
        "outputId": "19d215a3-675b-487f-a231-2dde9d52d701",
        "colab": {
          "base_uri": "https://localhost:8080/"
        }
      },
      "source": [
        "with autograd.record():\n",
        "    y = x * x\n",
        "    u = y.detach()\n",
        "    z = u * x\n",
        "z.backward()\n",
        "x.grad == u"
      ],
      "execution_count": 25,
      "outputs": [
        {
          "output_type": "execute_result",
          "data": {
            "text/plain": [
              "array([ True,  True,  True,  True], ctx=gpu(0))"
            ]
          },
          "metadata": {},
          "execution_count": 25
        }
      ]
    },
    {
      "cell_type": "markdown",
      "metadata": {
        "origin_pos": 32,
        "id": "X350QWPKk6u4"
      },
      "source": [
        "Since the computation of `y` was recorded,\n",
        "we can subsequently invoke backpropagation on `y` to get the derivative of `y = x * x` with respect to `x`, which is `2 * x`.\n"
      ]
    },
    {
      "cell_type": "code",
      "metadata": {
        "origin_pos": 33,
        "tab": [
          "mxnet"
        ],
        "id": "miIRhUJJk6u4",
        "outputId": "a9b4fe23-c2bd-41c1-a404-42540d666367",
        "colab": {
          "base_uri": "https://localhost:8080/"
        }
      },
      "source": [
        "y.backward()\n",
        "x.grad == 2 * x"
      ],
      "execution_count": 26,
      "outputs": [
        {
          "output_type": "execute_result",
          "data": {
            "text/plain": [
              "array([ True,  True,  True,  True], ctx=gpu(0))"
            ]
          },
          "metadata": {},
          "execution_count": 26
        }
      ]
    },
    {
      "cell_type": "markdown",
      "metadata": {
        "origin_pos": 36,
        "id": "hWCVYriSk6u4"
      },
      "source": [
        "## Computing the Gradient of Python Control Flow\n",
        "\n",
        "One benefit of using automatic differentiation\n",
        "is that [**even if**] building the computational graph of (**a function\n",
        "required passing through a maze of Python control flow**)\n",
        "(e.g., conditionals, loops, and arbitrary function calls),\n",
        "(**we can still calculate the gradient of the resulting variable.**)\n",
        "In the following snippet, note that\n",
        "the number of iterations of the `while` loop\n",
        "and the evaluation of the `if` statement\n",
        "both depend on the value of the input `a`.\n"
      ]
    },
    {
      "cell_type": "code",
      "metadata": {
        "origin_pos": 37,
        "tab": [
          "mxnet"
        ],
        "id": "-HTjURgyk6u5"
      },
      "source": [
        "def f(a):\n",
        "    b = a * 2\n",
        "    while np.linalg.norm(b) < 1000:\n",
        "        b = b * 2\n",
        "    if b.sum() > 0:\n",
        "        c = b\n",
        "    else:\n",
        "        c = 100 * b\n",
        "    return c"
      ],
      "execution_count": 27,
      "outputs": []
    },
    {
      "cell_type": "markdown",
      "metadata": {
        "origin_pos": 40,
        "id": "hrHqdGvTk6u5"
      },
      "source": [
        "Let us compute the gradient.\n"
      ]
    },
    {
      "cell_type": "code",
      "metadata": {
        "origin_pos": 41,
        "tab": [
          "mxnet"
        ],
        "id": "veLvGyjZk6u5"
      },
      "source": [
        "a = np.random.normal()\n",
        "a.attach_grad()\n",
        "with autograd.record():\n",
        "    d = f(a)\n",
        "d.backward()"
      ],
      "execution_count": 28,
      "outputs": []
    },
    {
      "cell_type": "markdown",
      "metadata": {
        "origin_pos": 44,
        "id": "NbnhgbNSk6u6"
      },
      "source": [
        "We can now analyze the `f` function defined above.\n",
        "Note that it is piecewise linear in its input `a`.\n",
        "In other words, for any `a` there exists some constant scalar `k`\n",
        "such that `f(a) = k * a`, where the value of `k` depends on the input `a`.\n",
        "Consequently `d / a` allows us to verify that the gradient is correct.\n"
      ]
    },
    {
      "cell_type": "code",
      "metadata": {
        "origin_pos": 45,
        "tab": [
          "mxnet"
        ],
        "id": "rHcfSqQDk6u6",
        "outputId": "6ab6ce5d-4c8c-404e-e3c9-d9a4484553de",
        "colab": {
          "base_uri": "https://localhost:8080/"
        }
      },
      "source": [
        "a.grad == d / a"
      ],
      "execution_count": 29,
      "outputs": [
        {
          "output_type": "execute_result",
          "data": {
            "text/plain": [
              "array(True)"
            ]
          },
          "metadata": {},
          "execution_count": 29
        }
      ]
    },
    {
      "cell_type": "markdown",
      "metadata": {
        "origin_pos": 48,
        "id": "pi0BWGdNk6u6"
      },
      "source": [
        "## Summary\n",
        "\n",
        "* Deep learning frameworks can automate the calculation of derivatives. To use it, we first attach gradients to those variables with respect to which we desire partial derivatives. We then record the computation of our target value, execute its function for backpropagation, and access the resulting gradient.\n",
        "\n",
        "\n",
        "## Exercises\n",
        "\n",
        "1. Why is the second derivative much more expensive to compute than the first derivative?\n",
        "1. After running the function for backpropagation, immediately run it again and see what happens.\n",
        "1. In the control flow example where we calculate the derivative of `d` with respect to `a`, what would happen if we changed the variable `a` to a random vector or matrix. At this point, the result of the calculation `f(a)` is no longer a scalar. What happens to the result? How do we analyze this?\n",
        "1. Redesign an example of finding the gradient of the control flow. Run and analyze the result.\n",
        "1. Let $f(x) = \\sin(x)$. Plot $f(x)$ and $\\frac{df(x)}{dx}$, where the latter is computed without exploiting that $f'(x) = \\cos(x)$.\n"
      ]
    },
    {
      "cell_type": "markdown",
      "metadata": {
        "origin_pos": 49,
        "tab": [
          "mxnet"
        ],
        "id": "vKqYoThok6u6"
      },
      "source": [
        "[Discussions](https://discuss.d2l.ai/t/34)\n"
      ]
    }
  ]
}